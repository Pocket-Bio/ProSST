{
 "cells": [
  {
   "cell_type": "code",
   "execution_count": 1,
   "metadata": {},
   "outputs": [
    {
     "name": "stderr",
     "output_type": "stream",
     "text": [
      "/home/tanyang/miniconda3/envs/protein/lib/python3.8/site-packages/tqdm/auto.py:21: TqdmWarning: IProgress not found. Please update jupyter and ipywidgets. See https://ipywidgets.readthedocs.io/en/stable/user_install.html\n",
      "  from .autonotebook import tqdm as notebook_tqdm\n"
     ]
    }
   ],
   "source": [
    "import sys\n",
    "sys.path.append('..')\n",
    "from prosst.structure.get_sst_seq import SSTPredictor"
   ]
  },
  {
   "cell_type": "code",
   "execution_count": 2,
   "metadata": {},
   "outputs": [
    {
     "name": "stdout",
     "output_type": "stream",
     "text": [
      "---------- Load Model on cuda ----------\n",
      "MODEL: 5.90M parameters\n"
     ]
    }
   ],
   "source": [
    "predictor = SSTPredictor(structure_vocab_size=2048)"
   ]
  },
  {
   "cell_type": "code",
   "execution_count": 3,
   "metadata": {},
   "outputs": [
    {
     "name": "stdout",
     "output_type": "stream",
     "text": [
      "---------- Building Subgraphs ----------\n"
     ]
    },
    {
     "name": "stderr",
     "output_type": "stream",
     "text": [
      "100%|██████████| 1/1 [00:00<00:00,  3.30it/s]\n",
      "100%|██████████| 1/1 [00:01<00:00,  1.52s/it]\n"
     ]
    },
    {
     "data": {
      "text/plain": [
       "[{'name': 'p1.pdb',\n",
       "  'aa_seq': 'GNIFIKNLHPDIDNKALYDTFSVFGDILSSKIATDENGKSKGFGFVHFEEEGAAKEAIDALNGMLLNGQEIYVAP',\n",
       "  '2048_sst_seq': [407,\n",
       "   998,\n",
       "   1841,\n",
       "   1421,\n",
       "   653,\n",
       "   450,\n",
       "   117,\n",
       "   822,\n",
       "   1082,\n",
       "   70,\n",
       "   1924,\n",
       "   1559,\n",
       "   1831,\n",
       "   370,\n",
       "   968,\n",
       "   1508,\n",
       "   524,\n",
       "   1766,\n",
       "   1490,\n",
       "   793,\n",
       "   1079,\n",
       "   1079,\n",
       "   531,\n",
       "   257,\n",
       "   225,\n",
       "   300,\n",
       "   15,\n",
       "   13,\n",
       "   677,\n",
       "   381,\n",
       "   417,\n",
       "   302,\n",
       "   1999,\n",
       "   139,\n",
       "   186,\n",
       "   598,\n",
       "   598,\n",
       "   186,\n",
       "   1242,\n",
       "   186,\n",
       "   826,\n",
       "   68,\n",
       "   508,\n",
       "   1788,\n",
       "   1421,\n",
       "   676,\n",
       "   1696,\n",
       "   944,\n",
       "   407,\n",
       "   709,\n",
       "   736,\n",
       "   511,\n",
       "   689,\n",
       "   1843,\n",
       "   743,\n",
       "   43,\n",
       "   643,\n",
       "   1440,\n",
       "   12,\n",
       "   2020,\n",
       "   1976,\n",
       "   1214,\n",
       "   1973,\n",
       "   1509,\n",
       "   1174,\n",
       "   709,\n",
       "   1129,\n",
       "   923,\n",
       "   1082,\n",
       "   1484,\n",
       "   1182,\n",
       "   844,\n",
       "   521,\n",
       "   521,\n",
       "   1841]}]"
      ]
     },
     "execution_count": 3,
     "metadata": {},
     "output_type": "execute_result"
    }
   ],
   "source": [
    "predictor.predict_from_pdb('../example_data/p1.pdb')"
   ]
  }
 ],
 "metadata": {
  "kernelspec": {
   "display_name": "protein",
   "language": "python",
   "name": "python3"
  },
  "language_info": {
   "codemirror_mode": {
    "name": "ipython",
    "version": 3
   },
   "file_extension": ".py",
   "mimetype": "text/x-python",
   "name": "python",
   "nbconvert_exporter": "python",
   "pygments_lexer": "ipython3",
   "version": "3.8.18"
  }
 },
 "nbformat": 4,
 "nbformat_minor": 2
}
